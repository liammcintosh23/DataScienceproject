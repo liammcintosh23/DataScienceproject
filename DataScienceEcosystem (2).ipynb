{
 "cells": [
  {
   "cell_type": "markdown",
   "id": "ab955984",
   "metadata": {},
   "source": [
    "# **Data Science Tools and Ecosystem**"
   ]
  },
  {
   "cell_type": "markdown",
   "id": "79c656c6",
   "metadata": {},
   "source": [
    "## *In this Notebook, we'll explore the different types of tools and ecosystems Data Scientists use.*"
   ]
  },
  {
   "cell_type": "markdown",
   "id": "4195b495",
   "metadata": {},
   "source": [
    "### __Objectives__:\n",
    "* Learn the Languages of Data Science\n",
    "* Learn the useful Libraries\n",
    "* What Tools are used and the types\n",
    "* Compute mathimatical operations in code"
   ]
  },
  {
   "cell_type": "markdown",
   "id": "d8f6d5fd",
   "metadata": {},
   "source": [
    "## **Languages:**"
   ]
  },
  {
   "cell_type": "markdown",
   "id": "620b630b",
   "metadata": {},
   "source": [
    "### *There are multiple languages used in the Data Science field...*"
   ]
  },
  {
   "cell_type": "markdown",
   "id": "63328c4d",
   "metadata": {},
   "source": [
    "1. Python\n",
    "2. R\n",
    "3. SQL\n",
    "4. Julia\n",
    "5. Java\n",
    "6. JS (Java script)\n",
    "7. C++\n",
    "6. Scala\n"
   ]
  },
  {
   "cell_type": "markdown",
   "id": "e7220487",
   "metadata": {},
   "source": [
    "#### Python, R, and SQL serve as the most common languages used by Data Scientists."
   ]
  },
  {
   "cell_type": "markdown",
   "id": "80f3ef2c",
   "metadata": {},
   "source": [
    "## Libraries:"
   ]
  },
  {
   "cell_type": "markdown",
   "id": "35a4aec7",
   "metadata": {},
   "source": [
    "### *Libraries are a collection of functions and methods that allow you to perform actions without writing code. The common Libraries are...*"
   ]
  },
  {
   "cell_type": "markdown",
   "id": "f733aa1b",
   "metadata": {},
   "source": [
    "1. Scientific Computing\n",
    "   - Pandas\n",
    "   - Numpy\n",
    "2. Visualization\n",
    "   - MatPlotLib\n",
    "   - Seaborn\n",
    "3. Machine Learning\n",
    "   - Scikit-learn\n",
    "   - Keras\n",
    "4. Deep Learning\n",
    "   - Tensorflow\n",
    "   - Pytorch\n",
    "5. Other\n",
    "   - Vegas\n",
    "   - BigDL\n",
    "   - GGplot2"
   ]
  },
  {
   "cell_type": "markdown",
   "id": "83a62012",
   "metadata": {},
   "source": [
    "## Data Science Tools:"
   ]
  },
  {
   "cell_type": "markdown",
   "id": "3542407a",
   "metadata": {},
   "source": [
    "### *The tools in Data Science are Open Source, Cloud Based, Commercial. Below are some of the options of Open Source in all of the main Data Science categories...*"
   ]
  },
  {
   "cell_type": "markdown",
   "id": "45d9390a",
   "metadata": {},
   "source": [
    "| Data Science Tools |\n",
    "  -----------\n",
    "|MySQL |\n",
    "|Airflow |\n",
    "|Pixiedust |\n",
    "|Prediction IO |\n",
    "|ModelDB |\n",
    "|Git/GitHub |\n",
    "|Apache Atlas |"
   ]
  },
  {
   "cell_type": "markdown",
   "id": "dfafd91e",
   "metadata": {},
   "source": [
    "### *Here are some examples of Arithmetic Expressions below*..."
   ]
  },
  {
   "cell_type": "markdown",
   "id": "8597c270",
   "metadata": {},
   "source": [
    "#### Let's multiply then add integers:"
   ]
  },
  {
   "cell_type": "code",
   "execution_count": 3,
   "id": "cdfa9b60",
   "metadata": {},
   "outputs": [
    {
     "data": {
      "text/plain": [
       "17"
      ]
     },
     "execution_count": 3,
     "metadata": {},
     "output_type": "execute_result"
    }
   ],
   "source": [
    "(3*4)+5"
   ]
  },
  {
   "cell_type": "markdown",
   "id": "12246a36",
   "metadata": {},
   "source": [
    "#### Now to convert 200 minutes into hours by dividing by 60:"
   ]
  },
  {
   "cell_type": "code",
   "execution_count": 9,
   "id": "fafb5dc6",
   "metadata": {},
   "outputs": [
    {
     "data": {
      "text/plain": [
       "3.3333333333333335"
      ]
     },
     "execution_count": 9,
     "metadata": {},
     "output_type": "execute_result"
    }
   ],
   "source": [
    "200/60"
   ]
  },
  {
   "cell_type": "markdown",
   "id": "848d998c",
   "metadata": {},
   "source": [
    "## _Thank you for viewing_!"
   ]
  },
  {
   "cell_type": "markdown",
   "id": "c09a23d9",
   "metadata": {},
   "source": [
    "## Author\n",
    "### Liam McIntosh"
   ]
  },
  {
   "cell_type": "code",
   "execution_count": null,
   "id": "659761a5",
   "metadata": {},
   "outputs": [],
   "source": []
  }
 ],
 "metadata": {
  "kernelspec": {
   "display_name": "Python 3 (ipykernel)",
   "language": "python",
   "name": "python3"
  },
  "language_info": {
   "codemirror_mode": {
    "name": "ipython",
    "version": 3
   },
   "file_extension": ".py",
   "mimetype": "text/x-python",
   "name": "python",
   "nbconvert_exporter": "python",
   "pygments_lexer": "ipython3",
   "version": "3.10.9"
  }
 },
 "nbformat": 4,
 "nbformat_minor": 5
}
